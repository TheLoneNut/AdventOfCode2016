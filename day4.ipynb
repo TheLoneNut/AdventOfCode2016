{
 "cells": [
  {
   "cell_type": "markdown",
   "metadata": {},
   "source": [
    "# Advent of Code 2016\n",
    "Day 4"
   ]
  },
  {
   "cell_type": "markdown",
   "metadata": {},
   "source": [
    "## Input file\n",
    "First we load the input file."
   ]
  },
  {
   "cell_type": "code",
   "execution_count": 169,
   "metadata": {
    "ExecuteTime": {
     "end_time": "2016-12-06T00:07:43.404731",
     "start_time": "2016-12-06T00:07:43.202122"
    },
    "collapsed": false
   },
   "outputs": [
    {
     "name": "stdout",
     "output_type": "stream",
     "text": [
      "Loading 991 elements.\n"
     ]
    },
    {
     "data": {
      "text/html": [
       "<div>\n",
       "<table border=\"1\" class=\"dataframe\">\n",
       "  <thead>\n",
       "    <tr style=\"text-align: right;\">\n",
       "      <th></th>\n",
       "      <th>rooms</th>\n",
       "      <th>ename</th>\n",
       "      <th>sid</th>\n",
       "      <th>ocksum</th>\n",
       "    </tr>\n",
       "  </thead>\n",
       "  <tbody>\n",
       "    <tr>\n",
       "      <th>0</th>\n",
       "      <td>aczupnetwp-dnlgpyrpc-sfye-dstaatyr-561[patyc]</td>\n",
       "      <td>aczupnetwp-dnlgpyrpc-sfye-dstaatyr</td>\n",
       "      <td>561</td>\n",
       "      <td>patyc</td>\n",
       "    </tr>\n",
       "    <tr>\n",
       "      <th>1</th>\n",
       "      <td>jsehsyafy-vqw-ljsafafy-866[nymla]</td>\n",
       "      <td>jsehsyafy-vqw-ljsafafy</td>\n",
       "      <td>866</td>\n",
       "      <td>nymla</td>\n",
       "    </tr>\n",
       "    <tr>\n",
       "      <th>2</th>\n",
       "      <td>tyepcyletzylw-ncjzrpytn-prr-opawzjxpye-743[cnrdl]</td>\n",
       "      <td>tyepcyletzylw-ncjzrpytn-prr-opawzjxpye</td>\n",
       "      <td>743</td>\n",
       "      <td>cnrdl</td>\n",
       "    </tr>\n",
       "    <tr>\n",
       "      <th>3</th>\n",
       "      <td>foadouwbu-qvcqczohs-obozmgwg-662[lamjh]</td>\n",
       "      <td>foadouwbu-qvcqczohs-obozmgwg</td>\n",
       "      <td>662</td>\n",
       "      <td>lamjh</td>\n",
       "    </tr>\n",
       "  </tbody>\n",
       "</table>\n",
       "</div>"
      ],
      "text/plain": [
       "                                               rooms  \\\n",
       "0      aczupnetwp-dnlgpyrpc-sfye-dstaatyr-561[patyc]   \n",
       "1                  jsehsyafy-vqw-ljsafafy-866[nymla]   \n",
       "2  tyepcyletzylw-ncjzrpytn-prr-opawzjxpye-743[cnrdl]   \n",
       "3            foadouwbu-qvcqczohs-obozmgwg-662[lamjh]   \n",
       "\n",
       "                                    ename  sid ocksum  \n",
       "0      aczupnetwp-dnlgpyrpc-sfye-dstaatyr  561  patyc  \n",
       "1                  jsehsyafy-vqw-ljsafafy  866  nymla  \n",
       "2  tyepcyletzylw-ncjzrpytn-prr-opawzjxpye  743  cnrdl  \n",
       "3            foadouwbu-qvcqczohs-obozmgwg  662  lamjh  "
      ]
     },
     "execution_count": 169,
     "metadata": {},
     "output_type": "execute_result"
    }
   ],
   "source": [
    "import pandas as pd\n",
    "\n",
    "infile = 'day4-input.txt'\n",
    "\n",
    "df = pd.read_csv(infile, header=None, sep='\\s+', engine='python')\n",
    "df.columns = [['rooms']]\n",
    "e = df['rooms'].str.split('-').str[:-1]\n",
    "df['ename'] = df.apply(lambda x:'-'.join(x['rooms'].split('-')[:-1]),axis=1)\n",
    "df['sid'] = df['rooms'].str.split('-').str[-1].str.split('[').str[0].astype(int)\n",
    "df['ocksum'] = df['rooms'].str.split('-').str[-1].str.split('[').str[1].str.split(']').str[0]\n",
    "print ('Loading {} elements.'.format(len(df)))\n",
    "df.head(4)"
   ]
  },
  {
   "cell_type": "markdown",
   "metadata": {
    "ExecuteTime": {
     "end_time": "2016-12-05T22:30:30.187247",
     "start_time": "2016-12-05T22:30:30.176384"
    }
   },
   "source": [
    "## Part 1"
   ]
  },
  {
   "cell_type": "code",
   "execution_count": 170,
   "metadata": {
    "ExecuteTime": {
     "end_time": "2016-12-06T00:07:45.448974",
     "start_time": "2016-12-06T00:07:45.438109"
    },
    "collapsed": false
   },
   "outputs": [],
   "source": [
    "import collections\n",
    "import operator\n",
    "\n",
    "cksum = lambda x: ''.join([c for c,v in sorted(sorted(collections.Counter(''.join(x['rooms'].split('-')[:-1])).items(), key=operator.itemgetter(0)), key=operator.itemgetter(1), reverse=True)])[:5]"
   ]
  },
  {
   "cell_type": "code",
   "execution_count": 171,
   "metadata": {
    "ExecuteTime": {
     "end_time": "2016-12-06T00:07:46.058838",
     "start_time": "2016-12-06T00:07:45.866225"
    },
    "collapsed": false
   },
   "outputs": [
    {
     "data": {
      "text/html": [
       "<div>\n",
       "<table border=\"1\" class=\"dataframe\">\n",
       "  <thead>\n",
       "    <tr style=\"text-align: right;\">\n",
       "      <th></th>\n",
       "      <th>rooms</th>\n",
       "      <th>ename</th>\n",
       "      <th>sid</th>\n",
       "      <th>ocksum</th>\n",
       "      <th>cksum</th>\n",
       "    </tr>\n",
       "  </thead>\n",
       "  <tbody>\n",
       "    <tr>\n",
       "      <th>0</th>\n",
       "      <td>aczupnetwp-dnlgpyrpc-sfye-dstaatyr-561[patyc]</td>\n",
       "      <td>aczupnetwp-dnlgpyrpc-sfye-dstaatyr</td>\n",
       "      <td>561</td>\n",
       "      <td>patyc</td>\n",
       "      <td>patyc</td>\n",
       "    </tr>\n",
       "    <tr>\n",
       "      <th>1</th>\n",
       "      <td>jsehsyafy-vqw-ljsafafy-866[nymla]</td>\n",
       "      <td>jsehsyafy-vqw-ljsafafy</td>\n",
       "      <td>866</td>\n",
       "      <td>nymla</td>\n",
       "      <td>afsyj</td>\n",
       "    </tr>\n",
       "    <tr>\n",
       "      <th>2</th>\n",
       "      <td>tyepcyletzylw-ncjzrpytn-prr-opawzjxpye-743[cnrdl]</td>\n",
       "      <td>tyepcyletzylw-ncjzrpytn-prr-opawzjxpye</td>\n",
       "      <td>743</td>\n",
       "      <td>cnrdl</td>\n",
       "      <td>pyert</td>\n",
       "    </tr>\n",
       "    <tr>\n",
       "      <th>3</th>\n",
       "      <td>foadouwbu-qvcqczohs-obozmgwg-662[lamjh]</td>\n",
       "      <td>foadouwbu-qvcqczohs-obozmgwg</td>\n",
       "      <td>662</td>\n",
       "      <td>lamjh</td>\n",
       "      <td>obcgq</td>\n",
       "    </tr>\n",
       "  </tbody>\n",
       "</table>\n",
       "</div>"
      ],
      "text/plain": [
       "                                               rooms  \\\n",
       "0      aczupnetwp-dnlgpyrpc-sfye-dstaatyr-561[patyc]   \n",
       "1                  jsehsyafy-vqw-ljsafafy-866[nymla]   \n",
       "2  tyepcyletzylw-ncjzrpytn-prr-opawzjxpye-743[cnrdl]   \n",
       "3            foadouwbu-qvcqczohs-obozmgwg-662[lamjh]   \n",
       "\n",
       "                                    ename  sid ocksum  cksum  \n",
       "0      aczupnetwp-dnlgpyrpc-sfye-dstaatyr  561  patyc  patyc  \n",
       "1                  jsehsyafy-vqw-ljsafafy  866  nymla  afsyj  \n",
       "2  tyepcyletzylw-ncjzrpytn-prr-opawzjxpye  743  cnrdl  pyert  \n",
       "3            foadouwbu-qvcqczohs-obozmgwg  662  lamjh  obcgq  "
      ]
     },
     "execution_count": 171,
     "metadata": {},
     "output_type": "execute_result"
    }
   ],
   "source": [
    "df['cksum']=df.apply(cksum,axis=1)\n",
    "df.head(4)"
   ]
  },
  {
   "cell_type": "code",
   "execution_count": 199,
   "metadata": {
    "ExecuteTime": {
     "end_time": "2016-12-06T00:22:38.165511",
     "start_time": "2016-12-06T00:22:38.143578"
    },
    "collapsed": false
   },
   "outputs": [
    {
     "name": "stdout",
     "output_type": "stream",
     "text": [
      "Part 1: The sum of the valid rooms Sector Id is: 278221\n"
     ]
    }
   ],
   "source": [
    "print('Part 1: The sum of the valid rooms Sector Id is: {}'.format(df[df['ocksum']==df['cksum']]['sid'].astype(int).sum()))"
   ]
  },
  {
   "cell_type": "markdown",
   "metadata": {},
   "source": [
    "## Part 2"
   ]
  },
  {
   "cell_type": "code",
   "execution_count": 198,
   "metadata": {
    "ExecuteTime": {
     "end_time": "2016-12-06T00:22:28.568194",
     "start_time": "2016-12-06T00:22:27.508356"
    },
    "collapsed": false
   },
   "outputs": [
    {
     "name": "stdout",
     "output_type": "stream",
     "text": [
      "Part 2: The Sector Id of the northpole object storage is: 267\n"
     ]
    }
   ],
   "source": [
    "from IPython.display import display\n",
    "decrypt = lambda x: ' '.join([''.join([chr(ord('a')+(ord(c)+x['sid']-ord('a'))%26) for c in s]) for s in x['ename'].split('-')])\n",
    "\n",
    "df['name'] = df.apply(decrypt,axis=1)\n",
    "print('Part 2: The Sector Id of the northpole object storage is: {}'.format(df[(df['ocksum']==df['cksum']) & (df['name']=='northpole object storage')]['sid'].values[0]))"
   ]
  }
 ],
 "metadata": {
  "kernelspec": {
   "display_name": "Python 3",
   "language": "python",
   "name": "python3"
  },
  "language_info": {
   "codemirror_mode": {
    "name": "ipython",
    "version": 3
   },
   "file_extension": ".py",
   "mimetype": "text/x-python",
   "name": "python",
   "nbconvert_exporter": "python",
   "pygments_lexer": "ipython3",
   "version": "3.5.2"
  },
  "toc": {
   "nav_menu": {
    "height": "66px",
    "width": "252px"
   },
   "navigate_menu": true,
   "number_sections": true,
   "sideBar": true,
   "threshold": 4,
   "toc_cell": false,
   "toc_position": {
    "height": "477px",
    "left": "0px",
    "right": "1138px",
    "top": "134px",
    "width": "212px"
   },
   "toc_section_display": "none",
   "toc_window_display": true
  }
 },
 "nbformat": 4,
 "nbformat_minor": 1
}
