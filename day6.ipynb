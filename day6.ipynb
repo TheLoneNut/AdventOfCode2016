{
 "cells": [
  {
   "cell_type": "code",
   "execution_count": null,
   "metadata": {
    "collapsed": true
   },
   "outputs": [],
   "source": []
  },
  {
   "cell_type": "code",
   "execution_count": 3,
   "metadata": {
    "ExecuteTime": {
     "end_time": "2016-12-06T21:28:57.240245",
     "start_time": "2016-12-06T21:28:57.212042"
    },
    "collapsed": false
   },
   "outputs": [],
   "source": [
    "import pandas as pd\n",
    "\n",
    "infile = 'day6-test.txt'\n",
    "\n",
    "dft = pd.read_csv(infile, header=None, sep='\\s+', engine='python')\n",
    "dft.columns = ['input']"
   ]
  },
  {
   "cell_type": "code",
   "execution_count": 13,
   "metadata": {
    "ExecuteTime": {
     "end_time": "2016-12-06T21:33:17.187028",
     "start_time": "2016-12-06T21:33:17.141038"
    },
    "collapsed": false
   },
   "outputs": [
    {
     "name": "stdout",
     "output_type": "stream",
     "text": [
      "easter\n"
     ]
    }
   ],
   "source": [
    "msg=''\n",
    "for i in range(len(dft['input'][0])):\n",
    "    dft[str(i)] = dft.input.str[i]\n",
    "    msg+=dft[str(i)].value_counts().idxmax()\n",
    "print(msg)"
   ]
  },
  {
   "cell_type": "code",
   "execution_count": 14,
   "metadata": {
    "ExecuteTime": {
     "end_time": "2016-12-06T21:35:27.712376",
     "start_time": "2016-12-06T21:35:27.684867"
    },
    "collapsed": true
   },
   "outputs": [],
   "source": [
    "infile = 'day6-input.txt'\n",
    "\n",
    "df = pd.read_csv(infile, header=None, sep='\\s+', engine='python')\n",
    "df.columns = ['input']"
   ]
  },
  {
   "cell_type": "code",
   "execution_count": 15,
   "metadata": {
    "ExecuteTime": {
     "end_time": "2016-12-06T21:35:29.388304",
     "start_time": "2016-12-06T21:35:29.325675"
    },
    "collapsed": false
   },
   "outputs": [
    {
     "name": "stdout",
     "output_type": "stream",
     "text": [
      "ygjzvzib\n"
     ]
    }
   ],
   "source": [
    "msg=''\n",
    "for i in range(len(df['input'][0])):\n",
    "    df[str(i)] = df.input.str[i]\n",
    "    msg+=df[str(i)].value_counts().idxmax()\n",
    "print(msg)"
   ]
  },
  {
   "cell_type": "code",
   "execution_count": 16,
   "metadata": {
    "ExecuteTime": {
     "end_time": "2016-12-06T21:36:57.692176",
     "start_time": "2016-12-06T21:36:57.642103"
    },
    "collapsed": false
   },
   "outputs": [
    {
     "name": "stdout",
     "output_type": "stream",
     "text": [
      "advent\n"
     ]
    }
   ],
   "source": [
    "msg=''\n",
    "for i in range(len(dft['input'][0])):\n",
    "    dft[str(i)] = dft.input.str[i]\n",
    "    msg+=dft[str(i)].value_counts().idxmin()\n",
    "print(msg)"
   ]
  },
  {
   "cell_type": "code",
   "execution_count": 18,
   "metadata": {
    "ExecuteTime": {
     "end_time": "2016-12-06T21:37:37.657330",
     "start_time": "2016-12-06T21:37:37.599704"
    },
    "collapsed": false
   },
   "outputs": [
    {
     "name": "stdout",
     "output_type": "stream",
     "text": [
      "pdesmnoz\n"
     ]
    }
   ],
   "source": [
    "msg=''\n",
    "for i in range(len(df['input'][0])):\n",
    "    df[str(i)] = df.input.str[i]\n",
    "    msg+=df[str(i)].value_counts().idxmin()\n",
    "print(msg)"
   ]
  },
  {
   "cell_type": "code",
   "execution_count": null,
   "metadata": {
    "collapsed": true
   },
   "outputs": [],
   "source": []
  }
 ],
 "metadata": {
  "kernelspec": {
   "display_name": "Python 3",
   "language": "python",
   "name": "python3"
  },
  "language_info": {
   "codemirror_mode": {
    "name": "ipython",
    "version": 3
   },
   "file_extension": ".py",
   "mimetype": "text/x-python",
   "name": "python",
   "nbconvert_exporter": "python",
   "pygments_lexer": "ipython3",
   "version": "3.5.2"
  },
  "toc": {
   "nav_menu": {
    "height": "12px",
    "width": "252px"
   },
   "navigate_menu": true,
   "number_sections": true,
   "sideBar": false,
   "threshold": 4,
   "toc_cell": false,
   "toc_section_display": "block",
   "toc_window_display": true
  }
 },
 "nbformat": 4,
 "nbformat_minor": 1
}
