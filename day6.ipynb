{
 "cells": [
  {
   "cell_type": "markdown",
   "metadata": {
    "collapsed": false
   },
   "source": [
    "# Advent of Code 2016\n",
    "Day 6"
   ]
  },
  {
   "cell_type": "markdown",
   "metadata": {},
   "source": [
    "## Input file\n",
    "First we load the test file and the input file."
   ]
  },
  {
   "cell_type": "code",
   "execution_count": 35,
   "metadata": {
    "ExecuteTime": {
     "end_time": "2016-12-07T07:30:06.743166",
     "start_time": "2016-12-07T07:30:06.703200"
    },
    "collapsed": false
   },
   "outputs": [],
   "source": [
    "import pandas as pd\n",
    "\n",
    "infile = 'day6-test.txt'\n",
    "\n",
    "dft = pd.read_csv(infile, header=None, sep='\\s+', engine='python')\n",
    "dft.columns = ['input']\n",
    "\n",
    "infile = 'day6-input.txt'\n",
    "\n",
    "df = pd.read_csv(infile, header=None, sep='\\s+', engine='python')\n",
    "df.columns = ['input']"
   ]
  },
  {
   "cell_type": "markdown",
   "metadata": {
    "ExecuteTime": {
     "end_time": "2016-12-07T07:27:04.092571",
     "start_time": "2016-12-07T07:27:04.081686"
    }
   },
   "source": [
    "## Part 1"
   ]
  },
  {
   "cell_type": "code",
   "execution_count": 36,
   "metadata": {
    "ExecuteTime": {
     "end_time": "2016-12-07T07:30:07.643170",
     "start_time": "2016-12-07T07:30:07.600281"
    },
    "collapsed": false
   },
   "outputs": [
    {
     "name": "stdout",
     "output_type": "stream",
     "text": [
      "Part 1: The error-corrected test message is: easter\n"
     ]
    }
   ],
   "source": [
    "msg=''\n",
    "for i in range(len(dft['input'][0])):\n",
    "    dft[str(i)] = dft.input.str[i]\n",
    "    msg+=dft[str(i)].value_counts().idxmax()\n",
    "print('Part 1: The error-corrected test message is: {}'.format(msg))"
   ]
  },
  {
   "cell_type": "code",
   "execution_count": 37,
   "metadata": {
    "ExecuteTime": {
     "end_time": "2016-12-07T07:30:08.136490",
     "start_time": "2016-12-07T07:30:08.077741"
    },
    "collapsed": false
   },
   "outputs": [
    {
     "name": "stdout",
     "output_type": "stream",
     "text": [
      "Part 1: The error-corrected message is: ygjzvzib\n"
     ]
    }
   ],
   "source": [
    "msg=''\n",
    "for i in range(len(df['input'][0])):\n",
    "    df[str(i)] = df.input.str[i]\n",
    "    msg+=df[str(i)].value_counts().idxmax()\n",
    "print('Part 1: The error-corrected message is: {}'.format(msg))"
   ]
  },
  {
   "cell_type": "markdown",
   "metadata": {},
   "source": [
    "## Part 2"
   ]
  },
  {
   "cell_type": "code",
   "execution_count": 38,
   "metadata": {
    "ExecuteTime": {
     "end_time": "2016-12-07T07:30:09.689008",
     "start_time": "2016-12-07T07:30:09.642410"
    },
    "collapsed": false
   },
   "outputs": [
    {
     "name": "stdout",
     "output_type": "stream",
     "text": [
      "Part 2: The error-corrected test message is: advent\n"
     ]
    }
   ],
   "source": [
    "msg=''\n",
    "for i in range(len(dft['input'][0])):\n",
    "    dft[str(i)] = dft.input.str[i]\n",
    "    msg+=dft[str(i)].value_counts().idxmin()\n",
    "print('Part 2: The error-corrected test message is: {}'.format(msg))"
   ]
  },
  {
   "cell_type": "code",
   "execution_count": 39,
   "metadata": {
    "ExecuteTime": {
     "end_time": "2016-12-07T07:30:12.951376",
     "start_time": "2016-12-07T07:30:12.883099"
    },
    "collapsed": false
   },
   "outputs": [
    {
     "name": "stdout",
     "output_type": "stream",
     "text": [
      "Part 2: The error-corrected message is: pdesmnoz\n"
     ]
    }
   ],
   "source": [
    "msg=''\n",
    "for i in range(len(df['input'][0])):\n",
    "    df[str(i)] = df.input.str[i]\n",
    "    msg+=df[str(i)].value_counts().idxmin()\n",
    "print('Part 2: The error-corrected message is: {}'.format(msg))"
   ]
  }
 ],
 "metadata": {
  "kernelspec": {
   "display_name": "Python 3",
   "language": "python",
   "name": "python3"
  },
  "language_info": {
   "codemirror_mode": {
    "name": "ipython",
    "version": 3
   },
   "file_extension": ".py",
   "mimetype": "text/x-python",
   "name": "python",
   "nbconvert_exporter": "python",
   "pygments_lexer": "ipython3",
   "version": "3.5.2"
  },
  "toc": {
   "nav_menu": {
    "height": "12px",
    "width": "252px"
   },
   "navigate_menu": true,
   "number_sections": true,
   "sideBar": false,
   "threshold": 4,
   "toc_cell": false,
   "toc_section_display": "none",
   "toc_window_display": true
  }
 },
 "nbformat": 4,
 "nbformat_minor": 1
}
