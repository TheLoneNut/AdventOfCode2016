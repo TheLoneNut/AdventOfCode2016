{
 "cells": [
  {
   "cell_type": "markdown",
   "metadata": {},
   "source": [
    "# Advent of Code 2016\n",
    "Day 7"
   ]
  },
  {
   "cell_type": "markdown",
   "metadata": {},
   "source": [
    "## Input file\n",
    "First we load the input file."
   ]
  },
  {
   "cell_type": "code",
   "execution_count": 59,
   "metadata": {
    "ExecuteTime": {
     "end_time": "2016-12-07T07:43:22.255070",
     "start_time": "2016-12-07T07:43:22.201681"
    },
    "collapsed": false
   },
   "outputs": [],
   "source": [
    "import pandas as pd\n",
    "\n",
    "infile = 'day7-input.txt'\n",
    "\n",
    "df = pd.read_csv(infile, header=None, sep='\\s+', engine='python')\n",
    "df.columns = ['input']"
   ]
  },
  {
   "cell_type": "markdown",
   "metadata": {},
   "source": [
    "## Part 1"
   ]
  },
  {
   "cell_type": "code",
   "execution_count": 60,
   "metadata": {
    "ExecuteTime": {
     "end_time": "2016-12-07T07:43:23.087679",
     "start_time": "2016-12-07T07:43:23.069409"
    },
    "collapsed": false
   },
   "outputs": [],
   "source": [
    "def TLS(s):\n",
    "    br = False\n",
    "    c1 = False\n",
    "    c2 = False\n",
    "    for i,c in enumerate(s):\n",
    "        if c=='[': br=True\n",
    "        elif c==']': br=False\n",
    "        elif i+3<len(s) and s[i]!=s[i+1] and s[i:i+2]==s[i+3:i+1:-1]:\n",
    "            c1=c1 or not br\n",
    "            c2=c2 or br\n",
    "    return c1 and not c2 "
   ]
  },
  {
   "cell_type": "code",
   "execution_count": 61,
   "metadata": {
    "ExecuteTime": {
     "end_time": "2016-12-07T07:43:23.540472",
     "start_time": "2016-12-07T07:43:23.527246"
    },
    "collapsed": false
   },
   "outputs": [
    {
     "name": "stdout",
     "output_type": "stream",
     "text": [
      "Part 1: Test IPv7 address \"abba[mnop]qrst\" supports TLS.\n",
      "Part 1: Test IPv7 address \"abcd[bddb]xyyx\" does not support TLS.\n",
      "Part 1: Test IPv7 address \"aaaa[qwer]tyui\" does not support TLS.\n",
      "Part 1: Test IPv7 address \"ioxxoj[asdfgh]zxcvbn\" supports TLS.\n"
     ]
    }
   ],
   "source": [
    "ts = ['abba[mnop]qrst', 'abcd[bddb]xyyx', 'aaaa[qwer]tyui', 'ioxxoj[asdfgh]zxcvbn']\n",
    "for s in ts:\n",
    "    print('Part 1: Test IPv7 address \"{}\" {} TLS.'.format(s,'supports' if TLS(s) else 'does not support'))"
   ]
  },
  {
   "cell_type": "code",
   "execution_count": 62,
   "metadata": {
    "ExecuteTime": {
     "end_time": "2016-12-07T07:43:24.288943",
     "start_time": "2016-12-07T07:43:23.961043"
    },
    "collapsed": false
   },
   "outputs": [
    {
     "name": "stdout",
     "output_type": "stream",
     "text": [
      "Part 1: We have 118 IPv7 addresses that supports TLS.\n"
     ]
    }
   ],
   "source": [
    "df['TLS']=df['input'].apply(TLS)\n",
    "print('Part 1: We have {} IPv7 addresses that supports TLS.'.format(len(df[df['TLS']])))"
   ]
  },
  {
   "cell_type": "markdown",
   "metadata": {},
   "source": [
    "## Part 2"
   ]
  },
  {
   "cell_type": "code",
   "execution_count": 63,
   "metadata": {
    "ExecuteTime": {
     "end_time": "2016-12-07T07:43:24.730658",
     "start_time": "2016-12-07T07:43:24.707772"
    },
    "collapsed": false
   },
   "outputs": [],
   "source": [
    "def SSL(s):\n",
    "    ABA = []\n",
    "    BAB = []\n",
    "    br = False\n",
    "    c1 = False\n",
    "    c2 = False\n",
    "    for i,c in enumerate(s):\n",
    "        if c=='[': br=True\n",
    "        elif c==']': br=False\n",
    "        elif i+2<len(s) and s[i]!=s[i+1] and s[i]==s[i+2] and s[i+1] not in ['[',']']:\n",
    "            if not br: ABA.append(s[i:i+2])\n",
    "            else: BAB.append(s[i+1:i-1:-1])\n",
    "    for a in ABA:\n",
    "        if a in BAB: return True\n",
    "    return False"
   ]
  },
  {
   "cell_type": "code",
   "execution_count": 64,
   "metadata": {
    "ExecuteTime": {
     "end_time": "2016-12-07T07:43:25.676818",
     "start_time": "2016-12-07T07:43:25.664660"
    },
    "collapsed": false
   },
   "outputs": [
    {
     "name": "stdout",
     "output_type": "stream",
     "text": [
      "Part 2: Test IPv7 address \"aba[bab]xyz\" supports SSL.\n",
      "Part 2: Test IPv7 address \"xyx[xyx]xyx\" does not support SSL.\n",
      "Part 2: Test IPv7 address \"aaa[kek]eke\" supports SSL.\n",
      "Part 2: Test IPv7 address \"zazbz[bzb]cdb\" supports SSL.\n"
     ]
    }
   ],
   "source": [
    "ts =['aba[bab]xyz','xyx[xyx]xyx','aaa[kek]eke','zazbz[bzb]cdb']\n",
    "for s in ts:\n",
    "    print('Part 2: Test IPv7 address \"{}\" {} SSL.'.format(s,'supports' if SSL(s) else 'does not support'))"
   ]
  },
  {
   "cell_type": "code",
   "execution_count": 65,
   "metadata": {
    "ExecuteTime": {
     "end_time": "2016-12-07T07:43:29.139815",
     "start_time": "2016-12-07T07:43:28.857943"
    },
    "collapsed": false
   },
   "outputs": [
    {
     "name": "stdout",
     "output_type": "stream",
     "text": [
      "Part 1: We have 260 IPv7 addresses that supports SSL.\n"
     ]
    }
   ],
   "source": [
    "df['SSL']=df['input'].apply(SSL)\n",
    "\n",
    "print('Part 1: We have {} IPv7 addresses that supports SSL.'.format(len(df[df['SSL']])))"
   ]
  }
 ],
 "metadata": {
  "kernelspec": {
   "display_name": "Python 3",
   "language": "python",
   "name": "python3"
  },
  "language_info": {
   "codemirror_mode": {
    "name": "ipython",
    "version": 3
   },
   "file_extension": ".py",
   "mimetype": "text/x-python",
   "name": "python",
   "nbconvert_exporter": "python",
   "pygments_lexer": "ipython3",
   "version": "3.5.2"
  },
  "toc": {
   "nav_menu": {
    "height": "84px",
    "width": "252px"
   },
   "navigate_menu": true,
   "number_sections": true,
   "sideBar": false,
   "threshold": 4,
   "toc_cell": false,
   "toc_section_display": "none",
   "toc_window_display": true
  }
 },
 "nbformat": 4,
 "nbformat_minor": 1
}
