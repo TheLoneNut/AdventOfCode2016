{
 "cells": [
  {
   "cell_type": "markdown",
   "metadata": {},
   "source": [
    "# Advent of Code 2016\n",
    "Day 9"
   ]
  },
  {
   "cell_type": "markdown",
   "metadata": {},
   "source": [
    "## 1.1  Input file\n",
    "First we load the input file."
   ]
  },
  {
   "cell_type": "code",
   "execution_count": 2,
   "metadata": {
    "ExecuteTime": {
     "end_time": "2016-12-13T12:45:28.996825",
     "start_time": "2016-12-13T12:45:28.247185"
    },
    "collapsed": false
   },
   "outputs": [
    {
     "data": {
      "text/html": [
       "<div>\n",
       "<table border=\"1\" class=\"dataframe\">\n",
       "  <thead>\n",
       "    <tr style=\"text-align: right;\">\n",
       "      <th></th>\n",
       "      <th>input</th>\n",
       "    </tr>\n",
       "  </thead>\n",
       "  <tbody>\n",
       "    <tr>\n",
       "      <th>0</th>\n",
       "      <td>(190x9)(44x13)ZAVXETEBULPKEEYPUUMBWUPDHPXFDPIE...</td>\n",
       "    </tr>\n",
       "  </tbody>\n",
       "</table>\n",
       "</div>"
      ],
      "text/plain": [
       "                                               input\n",
       "0  (190x9)(44x13)ZAVXETEBULPKEEYPUUMBWUPDHPXFDPIE..."
      ]
     },
     "execution_count": 2,
     "metadata": {},
     "output_type": "execute_result"
    }
   ],
   "source": [
    "import pandas as pd\n",
    "\n",
    "infile = 'day9-input.txt'\n",
    "\n",
    "df = pd.read_csv(infile, header=None, sep=';', engine='python')\n",
    "df.columns = ['input']\n",
    "\n",
    "df.head(4)"
   ]
  },
  {
   "cell_type": "markdown",
   "metadata": {},
   "source": [
    "## Part 1\n",
    "For Part 1 we will actually go with the decyphering of the strings."
   ]
  },
  {
   "cell_type": "code",
   "execution_count": 3,
   "metadata": {
    "ExecuteTime": {
     "end_time": "2016-12-13T12:45:29.137071",
     "start_time": "2016-12-13T12:45:29.127865"
    },
    "collapsed": false
   },
   "outputs": [],
   "source": [
    "def decypher(s):\n",
    "    i=0\n",
    "    decyph = ''\n",
    "    while i<len(s):\n",
    "        if s[i]=='(':\n",
    "            rp = s[i+1:].split(')')[0].split('x')\n",
    "            i+=s[i+1:].find(')')+1\n",
    "            for k in range(int(rp[1])):\n",
    "                decyph += s[i+1:i+1+int(rp[0])]\n",
    "            i+=int(rp[0])\n",
    "        else:\n",
    "            decyph += s[i]\n",
    "        i+=1\n",
    "    return decyph        "
   ]
  },
  {
   "cell_type": "code",
   "execution_count": 14,
   "metadata": {
    "ExecuteTime": {
     "end_time": "2016-12-13T18:21:16.698671",
     "start_time": "2016-12-13T18:21:16.681888"
    },
    "collapsed": false
   },
   "outputs": [
    {
     "name": "stdout",
     "output_type": "stream",
     "text": [
      "Decyphering \"ADVENT\" we get \"ADVENT\".\n",
      "Decyphering \"A(1x5)BC\" we get \"ABBBBBC\".\n",
      "Decyphering \"(3x3)XYZ\" we get \"XYZXYZXYZ\".\n",
      "Decyphering \"(6x1)(1x3)A\" we get \"(1x3)A\".\n",
      "Decyphering \"X(8x2)(3x3)ABCY\" we get \"X(3x3)ABC(3x3)ABCY\".\n"
     ]
    }
   ],
   "source": [
    "ss = ['ADVENT','A(1x5)BC','(3x3)XYZ','(6x1)(1x3)A','X(8x2)(3x3)ABCY']\n",
    "\n",
    "for s in ss:\n",
    "    decyph = decypher(s)\n",
    "    print('Decyphering \"{}\" we get \"{}\".'.format(s,decyph))"
   ]
  },
  {
   "cell_type": "code",
   "execution_count": 18,
   "metadata": {
    "ExecuteTime": {
     "end_time": "2016-12-13T18:23:39.833385",
     "start_time": "2016-12-13T18:23:39.811741"
    },
    "collapsed": false
   },
   "outputs": [
    {
     "name": "stdout",
     "output_type": "stream",
     "text": [
      "Part 1: The decompressed lenght of the file is: 112830\n"
     ]
    }
   ],
   "source": [
    "print('Part 1: The decompressed lenght of the file is: {}'.format(len(decypher(df['input'][0]))))"
   ]
  },
  {
   "cell_type": "markdown",
   "metadata": {},
   "source": [
    "## Part 2\n",
    "For Part 2 we will only compute the length of the decompressed strings."
   ]
  },
  {
   "cell_type": "code",
   "execution_count": 16,
   "metadata": {
    "ExecuteTime": {
     "end_time": "2016-12-13T18:22:13.156639",
     "start_time": "2016-12-13T18:22:13.131339"
    },
    "collapsed": true
   },
   "outputs": [],
   "source": [
    "def decylen(s):\n",
    "    l = 0\n",
    "    i=0\n",
    "    while i<len(s):\n",
    "        if s[i]=='(':\n",
    "            rp = s[i+1:].split(')')[0].split('x')\n",
    "            i += s[i+1:].find(')')+1\n",
    "            l += int(rp[1]) * decylen(s[i+1:i+1+int(rp[0])])\n",
    "            i += int(rp[0])\n",
    "        else:\n",
    "            l += 1\n",
    "        i+=1\n",
    "    return l"
   ]
  },
  {
   "cell_type": "code",
   "execution_count": 17,
   "metadata": {
    "ExecuteTime": {
     "end_time": "2016-12-13T18:23:15.204780",
     "start_time": "2016-12-13T18:23:15.186102"
    },
    "collapsed": false
   },
   "outputs": [
    {
     "name": "stdout",
     "output_type": "stream",
     "text": [
      "Decyphering \"(27x12)(20x12)(13x14)(7x10)(1x12)A\" would leads to a string of 241920 characters.\n",
      "Decyphering \"(25x3)(3x3)ABC(2x3)XY(5x2)PQRSTX(18x9)(3x2)TWO(5x7)SEVEN\" would leads to a string of 445 characters.\n"
     ]
    }
   ],
   "source": [
    "ss = ['(27x12)(20x12)(13x14)(7x10)(1x12)A','(25x3)(3x3)ABC(2x3)XY(5x2)PQRSTX(18x9)(3x2)TWO(5x7)SEVEN']\n",
    "\n",
    "for s in ss:\n",
    "    print('Decyphering \"{}\" would leads to a string of {} characters.'.format(s,decylen(s)))"
   ]
  },
  {
   "cell_type": "code",
   "execution_count": 20,
   "metadata": {
    "ExecuteTime": {
     "end_time": "2016-12-13T18:24:18.019228",
     "start_time": "2016-12-13T18:24:17.987259"
    },
    "collapsed": false
   },
   "outputs": [
    {
     "name": "stdout",
     "output_type": "stream",
     "text": [
      "Part 2: The decompressed lenght of the file is: 10931789799\n"
     ]
    }
   ],
   "source": [
    "print('Part 2: The decompressed lenght of the file is: {}'.format(decylen(df['input'][0])))"
   ]
  }
 ],
 "metadata": {
  "kernelspec": {
   "display_name": "Python 3",
   "language": "python",
   "name": "python3"
  },
  "language_info": {
   "codemirror_mode": {
    "name": "ipython",
    "version": 3
   },
   "file_extension": ".py",
   "mimetype": "text/x-python",
   "name": "python",
   "nbconvert_exporter": "python",
   "pygments_lexer": "ipython3",
   "version": "3.5.2"
  },
  "toc": {
   "navigate_menu": false,
   "number_sections": true,
   "sideBar": false,
   "threshold": 4,
   "toc_cell": false,
   "toc_section_display": "block",
   "toc_window_display": true
  }
 },
 "nbformat": 4,
 "nbformat_minor": 1
}
