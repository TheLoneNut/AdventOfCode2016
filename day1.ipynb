{
 "cells": [
  {
   "cell_type": "markdown",
   "metadata": {
    "toc": "true"
   },
   "source": [
    "# Table of Contents\n",
    " <p>"
   ]
  },
  {
   "cell_type": "code",
   "execution_count": 1,
   "metadata": {
    "ExecuteTime": {
     "end_time": "2016-12-01T18:01:04.112706",
     "start_time": "2016-12-01T18:01:00.892166"
    },
    "collapsed": false
   },
   "outputs": [
    {
     "name": "stdout",
     "output_type": "stream",
     "text": [
      "Part 1: Easter Bunny HQ is 288 blocks away.\n",
      "Part 2: Easter Bunny HQ is 111 blocks away.\n"
     ]
    }
   ],
   "source": [
    "import pandas as pd\n",
    "\n",
    "infile = 'day1-input.txt'\n",
    "\n",
    "df = pd.read_csv(infile, header=None, sep=',\\s+', engine='python').T\n",
    "df.columns = ['instr']\n",
    "df['turn'] = df['instr'].str[0]\n",
    "df['dist'] = df['instr'].str[1:].astype(int)\n",
    "\n",
    "dir = 0\n",
    "n=0\n",
    "e=0\n",
    "\n",
    "visited = pd.DataFrame({'n':[0],'e':[0]}).astype(int)\n",
    "\n",
    "for i, r in df.iterrows():\n",
    "    if r['turn']=='R': dir+=1\n",
    "    elif r['turn']=='L': dir-=1\n",
    "    dir%=4\n",
    "    for j in range(1,r['dist']+1):\n",
    "        e,n = [lambda e,n:(e,n+1),lambda e,n:(e+1,n),lambda e,n:(e,n-1),lambda e,n:(e-1,n)][dir](e,n)\n",
    "        visited = visited.append(pd.DataFrame({'e':[e], 'n':[n]}))\n",
    "first = visited[visited.duplicated()].iloc[0]\n",
    "\n",
    "print ('Part 1: Easter Bunny HQ is {} blocks away.'.format(abs(n)+abs(e)))\n",
    "print ('Part 2: Easter Bunny HQ is {} blocks away.'.format(abs(first['n'])+abs(first['e'])))"
   ]
  }
 ],
 "metadata": {
  "kernelspec": {
   "display_name": "Python 3",
   "language": "python",
   "name": "python3"
  },
  "language_info": {
   "codemirror_mode": {
    "name": "ipython",
    "version": 3
   },
   "file_extension": ".py",
   "mimetype": "text/x-python",
   "name": "python",
   "nbconvert_exporter": "python",
   "pygments_lexer": "ipython3",
   "version": "3.5.2"
  },
  "toc": {
   "nav_menu": {
    "height": "12px",
    "width": "252px"
   },
   "navigate_menu": true,
   "number_sections": true,
   "sideBar": true,
   "threshold": 4,
   "toc_cell": true,
   "toc_section_display": "block",
   "toc_window_display": true
  }
 },
 "nbformat": 4,
 "nbformat_minor": 1
}
