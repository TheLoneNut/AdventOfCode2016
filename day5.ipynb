{
 "cells": [
  {
   "cell_type": "markdown",
   "metadata": {},
   "source": [
    "# Advent of Code 2016\n",
    "Day 5"
   ]
  },
  {
   "cell_type": "markdown",
   "metadata": {},
   "source": [
    "## Part 1"
   ]
  },
  {
   "cell_type": "code",
   "execution_count": 18,
   "metadata": {
    "ExecuteTime": {
     "end_time": "2016-12-06T00:44:43.857560",
     "start_time": "2016-12-06T00:44:20.948030"
    },
    "collapsed": false
   },
   "outputs": [
    {
     "data": {
      "text/plain": [
       "'18f47a30'"
      ]
     },
     "execution_count": 18,
     "metadata": {},
     "output_type": "execute_result"
    }
   ],
   "source": [
    "import hashlib\n",
    "\n",
    "def pwd(did,l):\n",
    "    pw = ''\n",
    "    i=0\n",
    "    while len(pw)<l:\n",
    "        m = hashlib.md5()\n",
    "        m.update((did+str(i)).encode('utf-8'))\n",
    "        if m.hexdigest()[0:5]=='00000': pw+=m.hexdigest()[5]\n",
    "        i+=1\n",
    "    return pw\n",
    "        \n",
    "pwd('abc',8)"
   ]
  },
  {
   "cell_type": "code",
   "execution_count": 19,
   "metadata": {
    "ExecuteTime": {
     "end_time": "2016-12-06T00:51:09.157056",
     "start_time": "2016-12-06T00:50:43.449309"
    },
    "collapsed": false
   },
   "outputs": [
    {
     "data": {
      "text/plain": [
       "'2414bc77'"
      ]
     },
     "execution_count": 19,
     "metadata": {},
     "output_type": "execute_result"
    }
   ],
   "source": [
    "pwd('wtnhxymk',8)"
   ]
  },
  {
   "cell_type": "markdown",
   "metadata": {},
   "source": [
    "## Part 2"
   ]
  },
  {
   "cell_type": "code",
   "execution_count": 29,
   "metadata": {
    "ExecuteTime": {
     "end_time": "2016-12-06T01:12:38.861391",
     "start_time": "2016-12-06T01:11:55.266581"
    },
    "collapsed": false
   },
   "outputs": [
    {
     "name": "stdout",
     "output_type": "stream",
     "text": [
      "-5------\n",
      "-5--e---\n",
      "-5--e--3\n",
      "-5-ce--3\n",
      "05-ce--3\n",
      "05-ce-e3\n",
      "05-ce8e3\n",
      "05ace8e3\n"
     ]
    },
    {
     "data": {
      "text/plain": [
       "'05ace8e3'"
      ]
     },
     "execution_count": 29,
     "metadata": {},
     "output_type": "execute_result"
    }
   ],
   "source": [
    "def pwd2(did,l):\n",
    "    pw = ''.join(['-' for i in range(0,l)])\n",
    "    i=0\n",
    "    while pw.find('-')>-1:\n",
    "        m = hashlib.md5()\n",
    "        m.update((did+str(i)).encode('utf-8'))\n",
    "        if m.hexdigest()[0:5]=='00000':\n",
    "            j = int(m.hexdigest()[5],16)\n",
    "            if j<l and pw[j] == '-':\n",
    "                pw = pw[:j]+m.hexdigest()[6]+pw[j+1:]\n",
    "                print(pw)\n",
    "        i+=1\n",
    "    return pw\n",
    "\n",
    "pwd2('abc', 8)"
   ]
  },
  {
   "cell_type": "code",
   "execution_count": 30,
   "metadata": {
    "ExecuteTime": {
     "end_time": "2016-12-06T01:14:22.912903",
     "start_time": "2016-12-06T01:12:51.363079"
    },
    "collapsed": false
   },
   "outputs": [
    {
     "name": "stdout",
     "output_type": "stream",
     "text": [
      "--7-----\n",
      "--7-6---\n",
      "-37-6---\n",
      "-37-6--c\n",
      "-37-60-c\n",
      "-37-60fc\n",
      "-37e60fc\n",
      "437e60fc\n"
     ]
    },
    {
     "data": {
      "text/plain": [
       "'437e60fc'"
      ]
     },
     "execution_count": 30,
     "metadata": {},
     "output_type": "execute_result"
    }
   ],
   "source": [
    "pwd2('wtnhxymk',8)"
   ]
  },
  {
   "cell_type": "code",
   "execution_count": null,
   "metadata": {
    "collapsed": false
   },
   "outputs": [],
   "source": []
  }
 ],
 "metadata": {
  "kernelspec": {
   "display_name": "Python 3",
   "language": "python",
   "name": "python3"
  },
  "language_info": {
   "codemirror_mode": {
    "name": "ipython",
    "version": 3
   },
   "file_extension": ".py",
   "mimetype": "text/x-python",
   "name": "python",
   "nbconvert_exporter": "python",
   "pygments_lexer": "ipython3",
   "version": "3.5.2"
  },
  "toc": {
   "nav_menu": {
    "height": "12px",
    "width": "252px"
   },
   "navigate_menu": true,
   "number_sections": true,
   "sideBar": false,
   "threshold": 4,
   "toc_cell": false,
   "toc_position": {
    "height": "477px",
    "left": "0px",
    "right": "1154px",
    "top": "134px",
    "width": "212px"
   },
   "toc_section_display": "none",
   "toc_window_display": true
  }
 },
 "nbformat": 4,
 "nbformat_minor": 1
}
