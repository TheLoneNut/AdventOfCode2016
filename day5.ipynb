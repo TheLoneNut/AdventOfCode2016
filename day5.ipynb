{
 "cells": [
  {
   "cell_type": "markdown",
   "metadata": {},
   "source": [
    "# Advent of Code 2016\n",
    "Day 5"
   ]
  },
  {
   "cell_type": "markdown",
   "metadata": {},
   "source": [
    "## Part 1"
   ]
  },
  {
   "cell_type": "code",
   "execution_count": 31,
   "metadata": {
    "ExecuteTime": {
     "end_time": "2016-12-07T07:32:41.987637",
     "start_time": "2016-12-07T07:32:18.747624"
    },
    "collapsed": false
   },
   "outputs": [
    {
     "name": "stdout",
     "output_type": "stream",
     "text": [
      "Part 1: The test password is: 18f47a30\n"
     ]
    }
   ],
   "source": [
    "import hashlib\n",
    "\n",
    "def pwd(did,l):\n",
    "    pw = ''\n",
    "    i=0\n",
    "    while len(pw)<l:\n",
    "        m = hashlib.md5()\n",
    "        m.update((did+str(i)).encode('utf-8'))\n",
    "        if m.hexdigest()[0:5]=='00000': pw+=m.hexdigest()[5]\n",
    "        i+=1\n",
    "    return pw\n",
    "        \n",
    "print('Part 1: The test password is: {}'.format(pwd('abc',8)))"
   ]
  },
  {
   "cell_type": "code",
   "execution_count": 33,
   "metadata": {
    "ExecuteTime": {
     "end_time": "2016-12-07T07:46:10.748302",
     "start_time": "2016-12-07T07:45:43.497567"
    },
    "collapsed": false
   },
   "outputs": [
    {
     "name": "stdout",
     "output_type": "stream",
     "text": [
      "Part 1: The password is: 2414bc77\n"
     ]
    }
   ],
   "source": [
    "print('Part 1: The password is: {}'.format(pwd('wtnhxymk',8)))"
   ]
  },
  {
   "cell_type": "markdown",
   "metadata": {},
   "source": [
    "## Part 2"
   ]
  },
  {
   "cell_type": "code",
   "execution_count": 35,
   "metadata": {
    "ExecuteTime": {
     "end_time": "2016-12-07T07:47:11.521480",
     "start_time": "2016-12-07T07:46:26.552783"
    },
    "collapsed": false
   },
   "outputs": [
    {
     "name": "stdout",
     "output_type": "stream",
     "text": [
      "-5------\n",
      "-5--e---\n",
      "-5--e--3\n",
      "-5-ce--3\n",
      "05-ce--3\n",
      "05-ce-e3\n",
      "05-ce8e3\n",
      "05ace8e3\n",
      "Part 2: The test password is: 05ace8e3\n"
     ]
    }
   ],
   "source": [
    "def pwd2(did,l):\n",
    "    pw = ''.join(['-' for i in range(0,l)])\n",
    "    i=0\n",
    "    while pw.find('-')>-1:\n",
    "        m = hashlib.md5()\n",
    "        m.update((did+str(i)).encode('utf-8'))\n",
    "        if m.hexdigest()[0:5]=='00000':\n",
    "            j = int(m.hexdigest()[5],16)\n",
    "            if j<l and pw[j] == '-':\n",
    "                pw = pw[:j]+m.hexdigest()[6]+pw[j+1:]\n",
    "                print(pw)\n",
    "        i+=1\n",
    "    return pw\n",
    "\n",
    "print('Part 2: The test password is: {}'.format(pwd2('abc', 8)))"
   ]
  },
  {
   "cell_type": "code",
   "execution_count": 36,
   "metadata": {
    "ExecuteTime": {
     "end_time": "2016-12-07T07:48:45.604072",
     "start_time": "2016-12-07T07:47:11.524641"
    },
    "collapsed": false
   },
   "outputs": [
    {
     "name": "stdout",
     "output_type": "stream",
     "text": [
      "--7-----\n",
      "--7-6---\n",
      "-37-6---\n",
      "-37-6--c\n",
      "-37-60-c\n",
      "-37-60fc\n",
      "-37e60fc\n",
      "437e60fc\n",
      "Part 2: The password is: 437e60fc\n"
     ]
    }
   ],
   "source": [
    "print('Part 2: The password is: {}'.format(pwd2('wtnhxymk',8)))"
   ]
  }
 ],
 "metadata": {
  "kernelspec": {
   "display_name": "Python 3",
   "language": "python",
   "name": "python3"
  },
  "language_info": {
   "codemirror_mode": {
    "name": "ipython",
    "version": 3
   },
   "file_extension": ".py",
   "mimetype": "text/x-python",
   "name": "python",
   "nbconvert_exporter": "python",
   "pygments_lexer": "ipython3",
   "version": "3.5.2"
  },
  "toc": {
   "nav_menu": {
    "height": "12px",
    "width": "252px"
   },
   "navigate_menu": true,
   "number_sections": true,
   "sideBar": false,
   "threshold": 4,
   "toc_cell": false,
   "toc_position": {
    "height": "477px",
    "left": "0px",
    "right": "1154px",
    "top": "134px",
    "width": "212px"
   },
   "toc_section_display": "none",
   "toc_window_display": true
  }
 },
 "nbformat": 4,
 "nbformat_minor": 1
}
