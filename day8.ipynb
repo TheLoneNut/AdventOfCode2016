{
 "cells": [
  {
   "cell_type": "markdown",
   "metadata": {},
   "source": [
    "# Advent of Code 2016\n",
    "Day 8"
   ]
  },
  {
   "cell_type": "markdown",
   "metadata": {},
   "source": [
    "## Input file\n",
    "First we load the input file."
   ]
  },
  {
   "cell_type": "code",
   "execution_count": 96,
   "metadata": {
    "ExecuteTime": {
     "end_time": "2016-12-08T07:35:39.472772",
     "start_time": "2016-12-08T07:35:39.427325"
    },
    "collapsed": false
   },
   "outputs": [
    {
     "data": {
      "text/html": [
       "<div>\n",
       "<table border=\"1\" class=\"dataframe\">\n",
       "  <thead>\n",
       "    <tr style=\"text-align: right;\">\n",
       "      <th></th>\n",
       "      <th>input</th>\n",
       "    </tr>\n",
       "  </thead>\n",
       "  <tbody>\n",
       "    <tr>\n",
       "      <th>0</th>\n",
       "      <td>rect 1x1</td>\n",
       "    </tr>\n",
       "    <tr>\n",
       "      <th>1</th>\n",
       "      <td>rotate row y=0 by 5</td>\n",
       "    </tr>\n",
       "    <tr>\n",
       "      <th>2</th>\n",
       "      <td>rect 1x1</td>\n",
       "    </tr>\n",
       "    <tr>\n",
       "      <th>3</th>\n",
       "      <td>rotate row y=0 by 5</td>\n",
       "    </tr>\n",
       "  </tbody>\n",
       "</table>\n",
       "</div>"
      ],
      "text/plain": [
       "                 input\n",
       "0             rect 1x1\n",
       "1  rotate row y=0 by 5\n",
       "2             rect 1x1\n",
       "3  rotate row y=0 by 5"
      ]
     },
     "execution_count": 96,
     "metadata": {},
     "output_type": "execute_result"
    }
   ],
   "source": [
    "import pandas as pd\n",
    "\n",
    "infile = 'day8-input.txt'\n",
    "\n",
    "df = pd.read_csv(infile, header=None, sep=';', engine='python')\n",
    "df.columns = ['input']\n",
    "\n",
    "df.head(4)"
   ]
  },
  {
   "cell_type": "markdown",
   "metadata": {},
   "source": [
    "## Extrator functions definition"
   ]
  },
  {
   "cell_type": "code",
   "execution_count": 166,
   "metadata": {
    "ExecuteTime": {
     "end_time": "2016-12-08T10:16:29.456263",
     "start_time": "2016-12-08T10:16:29.435166"
    },
    "collapsed": false
   },
   "outputs": [
    {
     "name": "stdout",
     "output_type": "stream",
     "text": [
      "Command \"rect 3x2\" is associated to OP: 0 and has ARGS: [3, 2].\n",
      "Command \"rotate column x=1 by 1\" is associated to OP: 1 and has ARGS: [1, 1].\n",
      "Command \"rotate row y=0 by 4\" is associated to OP: 2 and has ARGS: [0, 4].\n"
     ]
    }
   ],
   "source": [
    "st = [['rect ','x'],['rotate column x=',' by '],['rotate row y=',' by ']]\n",
    "cmd = lambda s: [i for i in range(len(st)) if s.find(st[i][0])>-1][0]\n",
    "args = lambda s: [int(x) for x in s.split(st[cmd(s)][0])[1].split(st[cmd(s)][1])]\n",
    "\n",
    "# Let's test it out with the example provided.\n",
    "ss = ['rect 3x2', 'rotate column x=1 by 1', 'rotate row y=0 by 4']\n",
    "for s in ss:\n",
    "    print('Command \"{}\" is associated to OP: {} and has ARGS: {}.'.format(s,cmd(s),args(s)))"
   ]
  },
  {
   "cell_type": "markdown",
   "metadata": {},
   "source": [
    "## Commands functions definition"
   ]
  },
  {
   "cell_type": "code",
   "execution_count": 159,
   "metadata": {
    "ExecuteTime": {
     "end_time": "2016-12-08T10:10:41.596923",
     "start_time": "2016-12-08T10:10:41.562764"
    },
    "collapsed": false
   },
   "outputs": [],
   "source": [
    "import numpy as np\n",
    "\n",
    "rotate = lambda a: np.array([a[0][(i-a[1])%len(a[0])] for i in range(len(a[0]))])\n",
    "\n",
    "def c1(d,s): d[:args(s)[1],:args(s)[0]] = np.ones((args(s)[1],args(s)[0])); return d\n",
    "def c2(d,s): d[:,args(s)[0]] = rotate((d[:,args(s)[0]],args(s)[1])); return d\n",
    "def c3(d,s): d[args(s)[0],:] = rotate((d[args(s)[0],:],args(s)[1])); return d\n",
    "\n",
    "update = [c1,c2,c3]\n",
    "\n",
    "def display(d,a,b):\n",
    "    for r in d:\n",
    "        l = ''.join([a if i else b for i in r])\n",
    "        print(l)   "
   ]
  },
  {
   "cell_type": "markdown",
   "metadata": {},
   "source": [
    "## Final test"
   ]
  },
  {
   "cell_type": "code",
   "execution_count": 167,
   "metadata": {
    "ExecuteTime": {
     "end_time": "2016-12-08T10:17:12.543479",
     "start_time": "2016-12-08T10:17:12.523099"
    },
    "collapsed": false
   },
   "outputs": [
    {
     "name": "stdout",
     "output_type": "stream",
     "text": [
      "....#.#\n",
      "###....\n",
      ".#.....\n"
     ]
    }
   ],
   "source": [
    "# Let's test it out with the example provided.\n",
    "\n",
    "rows=3\n",
    "cols=7\n",
    "\n",
    "disp = np.zeros((rows,cols))\n",
    "\n",
    "for s in ss:\n",
    "    update[cmd(s)](disp,s)\n",
    "            \n",
    "display(disp,'#','.')"
   ]
  },
  {
   "cell_type": "markdown",
   "metadata": {},
   "source": [
    "## Results"
   ]
  },
  {
   "cell_type": "code",
   "execution_count": 169,
   "metadata": {
    "ExecuteTime": {
     "end_time": "2016-12-08T10:20:34.886448",
     "start_time": "2016-12-08T10:20:34.765997"
    },
    "collapsed": false
   },
   "outputs": [
    {
     "name": "stdout",
     "output_type": "stream",
     "text": [
      "Part 1: There is 106 pixels lit.\n",
      "Part 2: Here is the pattern printed:\n",
      " ██  ████ █    ████ █     ██  █   █████  ██   ███ \n",
      "█  █ █    █    █    █    █  █ █   ██    █  █ █    \n",
      "█    ███  █    ███  █    █  █  █ █ ███  █    █    \n",
      "█    █    █    █    █    █  █   █  █    █     ██  \n",
      "█  █ █    █    █    █    █  █   █  █    █  █    █ \n",
      " ██  █    ████ ████ ████  ██    █  █     ██  ███  \n"
     ]
    }
   ],
   "source": [
    "# Now for the real thing.\n",
    "\n",
    "rows=6\n",
    "cols=50\n",
    "\n",
    "disp = np.zeros((rows,cols))\n",
    "\n",
    "for i, r in df.iterrows():\n",
    "    update[cmd(r['input'])](disp,r['input'])\n",
    "\n",
    "disp = disp.astype(int)\n",
    "print('Part 1: There is {} pixels lit.'.format(disp.sum()))\n",
    "print('Part 2: Here is the pattern printed:')\n",
    "display(disp,u'\\u2588',' ')"
   ]
  }
 ],
 "metadata": {
  "kernelspec": {
   "display_name": "Python 3",
   "language": "python",
   "name": "python3"
  },
  "language_info": {
   "codemirror_mode": {
    "name": "ipython",
    "version": 3
   },
   "file_extension": ".py",
   "mimetype": "text/x-python",
   "name": "python",
   "nbconvert_exporter": "python",
   "pygments_lexer": "ipython3",
   "version": "3.5.2"
  },
  "toc": {
   "nav_menu": {
    "height": "12px",
    "width": "252px"
   },
   "navigate_menu": true,
   "number_sections": true,
   "sideBar": false,
   "threshold": 4,
   "toc_cell": false,
   "toc_section_display": "none",
   "toc_window_display": true
  }
 },
 "nbformat": 4,
 "nbformat_minor": 1
}
