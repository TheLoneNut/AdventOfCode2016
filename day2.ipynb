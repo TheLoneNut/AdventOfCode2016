{
 "cells": [
  {
   "cell_type": "markdown",
   "metadata": {},
   "source": [
    "First we load the input file"
   ]
  },
  {
   "cell_type": "code",
   "execution_count": 122,
   "metadata": {
    "ExecuteTime": {
     "end_time": "2016-12-02T17:09:12.971120",
     "start_time": "2016-12-02T17:09:12.926167"
    },
    "collapsed": false
   },
   "outputs": [
    {
     "data": {
      "text/html": [
       "<div>\n",
       "<table border=\"1\" class=\"dataframe\">\n",
       "  <thead>\n",
       "    <tr style=\"text-align: right;\">\n",
       "      <th></th>\n",
       "      <th>instr</th>\n",
       "    </tr>\n",
       "  </thead>\n",
       "  <tbody>\n",
       "    <tr>\n",
       "      <th>0</th>\n",
       "      <td>LLULLLRLDLLLRLUURDDLRDLDURULRLUULUDDUDDLLLURRL...</td>\n",
       "    </tr>\n",
       "    <tr>\n",
       "      <th>1</th>\n",
       "      <td>LDLRRRUURDLDDRLRRDLLULRULLLUDUUDUDLRULLDRUDRUL...</td>\n",
       "    </tr>\n",
       "    <tr>\n",
       "      <th>2</th>\n",
       "      <td>RURLURRDLDULLULDDDLRUULLUURLRUDRUDRRUDDLDDDDRR...</td>\n",
       "    </tr>\n",
       "    <tr>\n",
       "      <th>3</th>\n",
       "      <td>RLRDRDULULUDLUDRDRLUDLDLLUDURULDDDUDLRURLLRLRL...</td>\n",
       "    </tr>\n",
       "    <tr>\n",
       "      <th>4</th>\n",
       "      <td>ULUDLLUDDULRUURDRURDUDUDLUURDDDRRLUDURURDRURRL...</td>\n",
       "    </tr>\n",
       "  </tbody>\n",
       "</table>\n",
       "</div>"
      ],
      "text/plain": [
       "                                               instr\n",
       "0  LLULLLRLDLLLRLUURDDLRDLDURULRLUULUDDUDDLLLURRL...\n",
       "1  LDLRRRUURDLDDRLRRDLLULRULLLUDUUDUDLRULLDRUDRUL...\n",
       "2  RURLURRDLDULLULDDDLRUULLUURLRUDRUDRRUDDLDDDDRR...\n",
       "3  RLRDRDULULUDLUDRDRLUDLDLLUDURULDDDUDLRURLLRLRL...\n",
       "4  ULUDLLUDDULRUURDRURDUDUDLUURDDDRRLUDURURDRURRL..."
      ]
     },
     "execution_count": 122,
     "metadata": {},
     "output_type": "execute_result"
    }
   ],
   "source": [
    "import pandas as pd\n",
    "\n",
    "infile = 'day2-input.txt'\n",
    "\n",
    "df = pd.read_csv(infile, header=None, sep=',\\s+', engine='python')\n",
    "df.columns = ['instr']\n",
    "df"
   ]
  },
  {
   "cell_type": "markdown",
   "metadata": {
    "ExecuteTime": {
     "end_time": "2016-12-02T15:37:30.360569",
     "start_time": "2016-12-02T15:37:30.342334"
    }
   },
   "source": [
    "First let's define some helper functions to handle the conversion from key to location back and forth.\n",
    "\n",
    "loc is (x,y) on the keypad and defined as:\n",
    "     \n",
    "|     | x=0 | x=1 | x=2 |\n",
    "| --- |:--- |:--- |:--- |\n",
    "| y=0 | 1   | 2   | 3   |\n",
    "| y=1 | 4   | 5   | 6   |\n",
    "| y=2 | 7   | 8   | 9   |\n",
    " "
   ]
  },
  {
   "cell_type": "code",
   "execution_count": 123,
   "metadata": {
    "ExecuteTime": {
     "end_time": "2016-12-02T17:09:13.744866",
     "start_time": "2016-12-02T17:09:13.730323"
    },
    "collapsed": false
   },
   "outputs": [
    {
     "name": "stdout",
     "output_type": "stream",
     "text": [
      "The key 1 is at location (0, 0). And that location yields to key 1.\n",
      "The key 2 is at location (1, 0). And that location yields to key 2.\n",
      "The key 3 is at location (2, 0). And that location yields to key 3.\n",
      "The key 4 is at location (0, 1). And that location yields to key 4.\n",
      "The key 5 is at location (1, 1). And that location yields to key 5.\n",
      "The key 6 is at location (2, 1). And that location yields to key 6.\n",
      "The key 7 is at location (0, 2). And that location yields to key 7.\n",
      "The key 8 is at location (1, 2). And that location yields to key 8.\n",
      "The key 9 is at location (2, 2). And that location yields to key 9.\n"
     ]
    }
   ],
   "source": [
    "key2loc = lambda k:((k-1)%3,(k-1)//3)\n",
    "loc2key = lambda loc:loc[0]+3*loc[1]+1\n",
    "\n",
    "for i in range(1,10):\n",
    "    print('The key {} is at location {}. And that location yields to key {}.'.format(i,key2loc(i),loc2key(key2loc(i))))"
   ]
  },
  {
   "cell_type": "markdown",
   "metadata": {},
   "source": [
    "Now we will define a function which computes our final location on the keypad based on an initial one."
   ]
  },
  {
   "cell_type": "code",
   "execution_count": 124,
   "metadata": {
    "ExecuteTime": {
     "end_time": "2016-12-02T17:09:14.054831",
     "start_time": "2016-12-02T17:09:14.019030"
    },
    "collapsed": false
   },
   "outputs": [
    {
     "name": "stdout",
     "output_type": "stream",
     "text": [
      "Starting on 5 and doing ULL we endup on 1.\n",
      "Starting on 1 and doing RRDDD we endup on 9.\n",
      "Starting on 9 and doing LURDL we endup on 8.\n",
      "Starting on 8 and doing UUUUD we endup on 5.\n"
     ]
    }
   ],
   "source": [
    "def endPoint(key,instr):\n",
    "    loc=key2loc(key)\n",
    "    d={'U':2,'R':1,'D':0,'L':3}\n",
    "    for c in instr:\n",
    "        loc = [lambda x,y:(x,y+1 if y<2 else y),\n",
    "               lambda x,y:(x+1 if x<2 else x,y),\n",
    "               lambda x,y:(x,y-1 if y>0 else y),\n",
    "               lambda x,y:(x-1 if x>0 else x,y)][d[c]](loc[0],loc[1])\n",
    "    return loc2key(loc)\n",
    "\n",
    "# Let's try the instruction example, starting on key 5\n",
    "sp = 5\n",
    "inst = ['ULL','RRDDD','LURDL','UUUUD']\n",
    "\n",
    "for i,s in enumerate(inst):\n",
    "    ep = endPoint(sp,s)\n",
    "    print('Starting on {} and doing {} we endup on {}.'.format(sp,inst[i],ep))\n",
    "    sp = ep"
   ]
  },
  {
   "cell_type": "markdown",
   "metadata": {
    "ExecuteTime": {
     "end_time": "2016-12-02T15:57:06.524321",
     "start_time": "2016-12-02T15:57:06.503637"
    }
   },
   "source": [
    "Now let's compute the result of our data set."
   ]
  },
  {
   "cell_type": "code",
   "execution_count": 125,
   "metadata": {
    "ExecuteTime": {
     "end_time": "2016-12-02T17:09:14.385773",
     "start_time": "2016-12-02T17:09:14.365302"
    },
    "collapsed": false
   },
   "outputs": [
    {
     "name": "stdout",
     "output_type": "stream",
     "text": [
      "Part 1: Bathroom code is 65556\n"
     ]
    }
   ],
   "source": [
    "p = 5\n",
    "result = ''\n",
    "for i, r in df.iterrows():\n",
    "    p = endPoint(p,r['instr'])\n",
    "    result += str(p)\n",
    "print('Part 1: Bathroom code is {}'.format(result))"
   ]
  },
  {
   "cell_type": "markdown",
   "metadata": {},
   "source": [
    "Let's define some new helper functions to handle the conversion from key to location back and forth.\n",
    "\n",
    "loc is (x,y) on the keypad and defined as:\n",
    "     \n",
    "|     | x=0 | x=1 | x=2 | x=3 | x=4 |\n",
    "| --- |:--- |:--- |:--- |:--- |:--- |\n",
    "| y=0 |     |     | 1   |     |     |\n",
    "| y=1 |     | 2   | 3   | 4   |     |\n",
    "| y=2 | 5   | 6   | 7   | 8   | 9   |\n",
    "| y=3 |     | A   | B   | C   |     |\n",
    "| y=4 |     |     | D   |     |     |\n",
    "\n",
    "\n",
    " "
   ]
  },
  {
   "cell_type": "code",
   "execution_count": 126,
   "metadata": {
    "ExecuteTime": {
     "end_time": "2016-12-02T17:09:15.100740",
     "start_time": "2016-12-02T17:09:15.075968"
    },
    "collapsed": false
   },
   "outputs": [
    {
     "name": "stdout",
     "output_type": "stream",
     "text": [
      "The key 1 is at location (2, 0). And that location yields to key 1.\n",
      "The key 2 is at location (1, 1). And that location yields to key 2.\n",
      "The key 3 is at location (2, 1). And that location yields to key 3.\n",
      "The key 4 is at location (3, 1). And that location yields to key 4.\n",
      "The key 5 is at location (0, 2). And that location yields to key 5.\n",
      "The key 6 is at location (1, 2). And that location yields to key 6.\n",
      "The key 7 is at location (2, 2). And that location yields to key 7.\n",
      "The key 8 is at location (3, 2). And that location yields to key 8.\n",
      "The key 9 is at location (4, 2). And that location yields to key 9.\n",
      "The key 10 is at location (1, 3). And that location yields to key 10.\n",
      "The key 11 is at location (2, 3). And that location yields to key 11.\n",
      "The key 12 is at location (3, 3). And that location yields to key 12.\n"
     ]
    }
   ],
   "source": [
    "keypad = [[-1,-1, 1,-1,-1],\n",
    "          [-1, 2, 3, 4,-1],\n",
    "          [ 5, 6, 7, 8, 9],\n",
    "          [-1,10,11,12,-1],\n",
    "          [-1,-1,13,-1,-1]]\n",
    "\n",
    "key2loc = lambda k:([x for r in keypad for x in r if k in r].index(k),[i for i,r in enumerate(keypad) for x in r if k in r][0])\n",
    "loc2key = lambda loc:keypad[loc[1]][loc[0]]\n",
    "\n",
    "for i in range(1,13):\n",
    "    print('The key {} is at location {}. And that location yields to key {}.'.format(i,key2loc(i),loc2key(key2loc(i))))"
   ]
  },
  {
   "cell_type": "markdown",
   "metadata": {
    "ExecuteTime": {
     "end_time": "2016-12-02T16:49:20.862749",
     "start_time": "2016-12-02T16:49:20.843233"
    }
   },
   "source": [
    "Now we will define a new function which computes our final location on the keypad based on an initial one.\n"
   ]
  },
  {
   "cell_type": "code",
   "execution_count": 127,
   "metadata": {
    "ExecuteTime": {
     "end_time": "2016-12-02T17:09:17.670907",
     "start_time": "2016-12-02T17:09:17.612529"
    },
    "collapsed": false
   },
   "outputs": [
    {
     "name": "stdout",
     "output_type": "stream",
     "text": [
      "Starting on 5 and doing ULL we endup on 5.\n",
      "Starting on 5 and doing RRDDD we endup on D.\n",
      "Starting on D and doing LURDL we endup on B.\n",
      "Starting on B and doing UUUUD we endup on 3.\n"
     ]
    }
   ],
   "source": [
    "import string\n",
    "\n",
    "def endPoint(key,instr):\n",
    "    loc=key2loc(key)\n",
    "    d={'U':2,'R':1,'D':0,'L':3}\n",
    "    for c in instr:\n",
    "        loc = [lambda x,y:(x,y+1 if (y<4 and keypad[x][y+1]>0) else y),\n",
    "               lambda x,y:(x+1 if (x<4 and keypad[x+1][y]>0) else x,y),\n",
    "               lambda x,y:(x,y-1 if (y>0 and keypad[x][y-1]>0) else y),\n",
    "               lambda x,y:(x-1 if (x>0 and keypad[x-1][y]>0) else x,y)][d[c]](loc[0],loc[1])\n",
    "    return loc2key(loc)\n",
    "\n",
    "# Let's try the instruction example, starting on key 5\n",
    "sp = 5\n",
    "inst = ['ULL','RRDDD','LURDL','UUUUD']\n",
    "\n",
    "for i,s in enumerate(inst):\n",
    "    ep = endPoint(sp,s)\n",
    "    print('Starting on {} and doing {} we endup on {}.'.format(hex(sp)[2:].upper(),inst[i],hex(ep)[2:].upper()))\n",
    "    sp = ep"
   ]
  },
  {
   "cell_type": "markdown",
   "metadata": {},
   "source": [
    "Now let's compute the result of our data set."
   ]
  },
  {
   "cell_type": "code",
   "execution_count": 128,
   "metadata": {
    "ExecuteTime": {
     "end_time": "2016-12-02T17:09:23.330026",
     "start_time": "2016-12-02T17:09:23.299024"
    },
    "collapsed": false
   },
   "outputs": [
    {
     "name": "stdout",
     "output_type": "stream",
     "text": [
      "Part 2: Bathroom code is CB779\n"
     ]
    }
   ],
   "source": [
    "p = 5\n",
    "result = ''\n",
    "for i, r in df.iterrows():\n",
    "    p = endPoint(p,r['instr'])\n",
    "    result += hex(p)[2:].upper()\n",
    "print('Part 2: Bathroom code is {}'.format(result))"
   ]
  }
 ],
 "metadata": {
  "kernelspec": {
   "display_name": "Python 3",
   "language": "python",
   "name": "python3"
  },
  "language_info": {
   "codemirror_mode": {
    "name": "ipython",
    "version": 3
   },
   "file_extension": ".py",
   "mimetype": "text/x-python",
   "name": "python",
   "nbconvert_exporter": "python",
   "pygments_lexer": "ipython3",
   "version": "3.5.2"
  },
  "toc": {
   "nav_menu": {
    "height": "12px",
    "width": "252px"
   },
   "navigate_menu": true,
   "number_sections": true,
   "sideBar": true,
   "threshold": 4,
   "toc_cell": true,
   "toc_section_display": "block",
   "toc_window_display": true
  }
 },
 "nbformat": 4,
 "nbformat_minor": 1
}
