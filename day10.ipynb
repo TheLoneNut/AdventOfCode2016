{
 "cells": [
  {
   "cell_type": "markdown",
   "metadata": {},
   "source": [
    "# Advent of Code 2016\n",
    "Day 10"
   ]
  },
  {
   "cell_type": "markdown",
   "metadata": {},
   "source": [
    "## Input file\n",
    "First we load the input file."
   ]
  },
  {
   "cell_type": "code",
   "execution_count": 1,
   "metadata": {
    "ExecuteTime": {
     "end_time": "2016-12-13T18:29:32.067214",
     "start_time": "2016-12-13T18:29:31.375578"
    },
    "collapsed": false
   },
   "outputs": [
    {
     "data": {
      "text/html": [
       "<div>\n",
       "<table border=\"1\" class=\"dataframe\">\n",
       "  <thead>\n",
       "    <tr style=\"text-align: right;\">\n",
       "      <th></th>\n",
       "      <th>input</th>\n",
       "    </tr>\n",
       "  </thead>\n",
       "  <tbody>\n",
       "    <tr>\n",
       "      <th>0</th>\n",
       "      <td>bot 75 gives low to bot 145 and high to bot 95</td>\n",
       "    </tr>\n",
       "    <tr>\n",
       "      <th>1</th>\n",
       "      <td>bot 116 gives low to bot 157 and high to bot 197</td>\n",
       "    </tr>\n",
       "    <tr>\n",
       "      <th>2</th>\n",
       "      <td>bot 185 gives low to bot 57 and high to bot 139</td>\n",
       "    </tr>\n",
       "    <tr>\n",
       "      <th>3</th>\n",
       "      <td>bot 202 gives low to bot 105 and high to bot 209</td>\n",
       "    </tr>\n",
       "  </tbody>\n",
       "</table>\n",
       "</div>"
      ],
      "text/plain": [
       "                                              input\n",
       "0    bot 75 gives low to bot 145 and high to bot 95\n",
       "1  bot 116 gives low to bot 157 and high to bot 197\n",
       "2   bot 185 gives low to bot 57 and high to bot 139\n",
       "3  bot 202 gives low to bot 105 and high to bot 209"
      ]
     },
     "execution_count": 1,
     "metadata": {},
     "output_type": "execute_result"
    }
   ],
   "source": [
    "import pandas as pd\n",
    "\n",
    "infile = 'day10-input.txt'\n",
    "\n",
    "df = pd.read_csv(infile, header=None, sep=';', engine='python')\n",
    "df.columns = ['input']\n",
    "\n",
    "df.head(4)"
   ]
  },
  {
   "cell_type": "code",
   "execution_count": 98,
   "metadata": {
    "ExecuteTime": {
     "end_time": "2016-12-14T11:38:05.958935",
     "start_time": "2016-12-14T11:38:05.916146"
    },
    "collapsed": false
   },
   "outputs": [
    {
     "data": {
      "text/html": [
       "<div>\n",
       "<table border=\"1\" class=\"dataframe\">\n",
       "  <thead>\n",
       "    <tr style=\"text-align: right;\">\n",
       "      <th></th>\n",
       "      <th>input</th>\n",
       "    </tr>\n",
       "  </thead>\n",
       "  <tbody>\n",
       "    <tr>\n",
       "      <th>0</th>\n",
       "      <td>value 5 goes to bot 2</td>\n",
       "    </tr>\n",
       "    <tr>\n",
       "      <th>1</th>\n",
       "      <td>bot 2 gives low to bot 1 and high to bot 0</td>\n",
       "    </tr>\n",
       "    <tr>\n",
       "      <th>2</th>\n",
       "      <td>value 3 goes to bot 1</td>\n",
       "    </tr>\n",
       "    <tr>\n",
       "      <th>3</th>\n",
       "      <td>bot 1 gives low to output 1 and high to bot 0</td>\n",
       "    </tr>\n",
       "    <tr>\n",
       "      <th>4</th>\n",
       "      <td>bot 0 gives low to output 2 and high to output 0</td>\n",
       "    </tr>\n",
       "    <tr>\n",
       "      <th>5</th>\n",
       "      <td>value 2 goes to bot 2</td>\n",
       "    </tr>\n",
       "  </tbody>\n",
       "</table>\n",
       "</div>"
      ],
      "text/plain": [
       "                                              input\n",
       "0                             value 5 goes to bot 2\n",
       "1        bot 2 gives low to bot 1 and high to bot 0\n",
       "2                             value 3 goes to bot 1\n",
       "3     bot 1 gives low to output 1 and high to bot 0\n",
       "4  bot 0 gives low to output 2 and high to output 0\n",
       "5                             value 2 goes to bot 2"
      ]
     },
     "execution_count": 98,
     "metadata": {},
     "output_type": "execute_result"
    }
   ],
   "source": [
    "infile = 'day10-test.txt'\n",
    "\n",
    "dft = pd.read_csv(infile, header=None, sep=';', engine='python')\n",
    "dft.columns = ['input']\n",
    "\n",
    "dft"
   ]
  },
  {
   "cell_type": "code",
   "execution_count": 114,
   "metadata": {
    "ExecuteTime": {
     "end_time": "2016-12-14T11:52:52.388482",
     "start_time": "2016-12-14T11:52:52.368212"
    },
    "collapsed": true
   },
   "outputs": [],
   "source": [
    "# Determine if an input is an initial value and parse it\n",
    "def init (s):\n",
    "    header = 'value '\n",
    "    if s[:len(header)] == header:\n",
    "        data = s[len(header):].split(' goes to bot ')\n",
    "        value = int(data[0])\n",
    "        bot = int(data[1])\n",
    "        return (bot, value)\n",
    "    else:\n",
    "        return None"
   ]
  },
  {
   "cell_type": "code",
   "execution_count": 115,
   "metadata": {
    "ExecuteTime": {
     "end_time": "2016-12-14T11:52:52.737994",
     "start_time": "2016-12-14T11:52:52.701601"
    },
    "collapsed": false
   },
   "outputs": [],
   "source": [
    "# Determine if an input is an order and parse it\n",
    "def order (s):\n",
    "    header = 'bot '\n",
    "    if s[:len(header)] == header:\n",
    "        tmp = s[len(header):].split(' gives low to ')\n",
    "        bot = int(tmp[0])\n",
    "        tmp2 = tmp[1].split(' and high to ')\n",
    "        low = tmp2[0]\n",
    "        high = tmp2[1]\n",
    "        if low[:len(header)] == header:\n",
    "            botl = int(low[len(header):])\n",
    "            outl = None\n",
    "        else:\n",
    "            botl = None\n",
    "            outl = int(low[7:])\n",
    "        if high[:len(header)] == header:\n",
    "            both = int(high[len(header):])\n",
    "            outh = None\n",
    "        else:\n",
    "            both = None\n",
    "            outh = int(high[7:])\n",
    "        return (bot, (botl, outl), (both, outh))\n",
    "    else:\n",
    "        return None"
   ]
  },
  {
   "cell_type": "code",
   "execution_count": 116,
   "metadata": {
    "ExecuteTime": {
     "end_time": "2016-12-14T11:52:54.553889",
     "start_time": "2016-12-14T11:52:54.534060"
    },
    "collapsed": false
   },
   "outputs": [],
   "source": [
    "# Get the initial bots hand\n",
    "def initbots(df):\n",
    "    bots = {}\n",
    "    for index, row in df.iterrows():\n",
    "        if init(row['input']) != None:\n",
    "            if init(row['input'])[0] in bots:\n",
    "                tmp = bots[init(row['input'])[0]]\n",
    "                tmp.append(init(row['input'])[1])\n",
    "                bots.update({init(row['input'])[0] : tmp})\n",
    "            else:\n",
    "                bots.update({init(row['input'])[0] : [init(row['input'])[1]]})\n",
    "    return bots"
   ]
  },
  {
   "cell_type": "code",
   "execution_count": 117,
   "metadata": {
    "ExecuteTime": {
     "end_time": "2016-12-14T11:52:56.345492",
     "start_time": "2016-12-14T11:52:56.334077"
    },
    "collapsed": false,
    "scrolled": true
   },
   "outputs": [],
   "source": [
    "# Loads bots instructions\n",
    "def loadinstr(df):\n",
    "    instr = {}\n",
    "    for index, row in df.iterrows():\n",
    "        if order(row['input']) != None:\n",
    "            instr.update({order(row['input'])[0] : [order(row['input'])[1], order(row['input'])[2]]})\n",
    "    return instr"
   ]
  },
  {
   "cell_type": "code",
   "execution_count": 168,
   "metadata": {
    "ExecuteTime": {
     "end_time": "2016-12-14T12:30:08.532367",
     "start_time": "2016-12-14T12:30:08.414391"
    },
    "collapsed": false
   },
   "outputs": [],
   "source": [
    "import copy\n",
    "\n",
    "# Run the robot factory\n",
    "def runfactory(df, verbose=True):\n",
    "\n",
    "    instr = loadinstr(df)\n",
    "    bots = initbots(df)\n",
    "    outputs = {}\n",
    "\n",
    "    updated = True\n",
    "    while updated:\n",
    "        updated = False\n",
    "        if verbose: print('***Starting a cycle***')\n",
    "        if verbose: print ('Bots hand: {}'.format(bots))\n",
    "        nbots = copy.deepcopy(bots)\n",
    "        for b,h in bots.items():\n",
    "            if len(h)==2:\n",
    "                if verbose: print('  Bot {} has value-{} and value-{} chips.'.format(b,h[0],h[1]))\n",
    "                if 61 in h and 17 in h: print('Part 1: Bot {} is comparing value-61 and value-17 chips.'.format(b))\n",
    "                t = instr[b][0][0]\n",
    "                if t != None:\n",
    "                    tmp = nbots[t] if t in nbots else []\n",
    "                    tmp.append(min(h))\n",
    "                    nbots.update({t: tmp})\n",
    "                    if verbose: print('    Value-{} chip goes to bot {}.'.format(min(h),t))\n",
    "                t = instr[b][0][1]\n",
    "                if t != None:\n",
    "                    tmp = outputs[t] if t in outputs else []\n",
    "                    tmp.append(min(h))\n",
    "                    outputs.update({t: tmp})\n",
    "                    if verbose: print('    Value-{} chip goes to output {}.'.format(min(h),t))\n",
    "                t = instr[b][1][0]\n",
    "                if t != None:\n",
    "                    tmp = nbots[t] if t in nbots else []\n",
    "                    tmp.append(max(h))\n",
    "                    nbots.update({t: tmp})\n",
    "                    if verbose: print('    Value-{} chip goes to bot {}.'.format(max(h),t))\n",
    "                t = instr[b][1][1]\n",
    "                if t != None:\n",
    "                    tmp = outputs[t] if t in outputs else []\n",
    "                    tmp.append(max(h))\n",
    "                    outputs.update({t: tmp})\n",
    "                    if verbose: print('    Value-{} chip goes to output {}.'.format(max(h),t))\n",
    "                nbots.update({b:[]})\n",
    "                updated = True\n",
    "        bots = copy.deepcopy(nbots)\n",
    "\n",
    "    if verbose: print ('Final output content: {}'.format(outputs))\n",
    "    return outputs"
   ]
  },
  {
   "cell_type": "markdown",
   "metadata": {
    "ExecuteTime": {
     "end_time": "2016-12-14T11:53:55.112042",
     "start_time": "2016-12-14T11:53:55.104894"
    }
   },
   "source": [
    "## Test the factory"
   ]
  },
  {
   "cell_type": "code",
   "execution_count": 169,
   "metadata": {
    "ExecuteTime": {
     "end_time": "2016-12-14T12:30:09.655018",
     "start_time": "2016-12-14T12:30:09.637586"
    },
    "collapsed": false
   },
   "outputs": [
    {
     "name": "stdout",
     "output_type": "stream",
     "text": [
      "***Starting a cycle***\n",
      "Bots hand: {1: [3], 2: [5, 2]}\n",
      "  Bot 2 has value-5 and value-2 chips.\n",
      "    Value-2 chip goes to bot 1.\n",
      "    Value-5 chip goes to bot 0.\n",
      "***Starting a cycle***\n",
      "Bots hand: {0: [5], 1: [3, 2], 2: []}\n",
      "  Bot 1 has value-3 and value-2 chips.\n",
      "    Value-2 chip goes to output 1.\n",
      "    Value-3 chip goes to bot 0.\n",
      "***Starting a cycle***\n",
      "Bots hand: {0: [5, 3], 1: [], 2: []}\n",
      "  Bot 0 has value-5 and value-3 chips.\n",
      "    Value-3 chip goes to output 2.\n",
      "    Value-5 chip goes to output 0.\n",
      "***Starting a cycle***\n",
      "Bots hand: {0: [], 1: [], 2: []}\n",
      "Final output content: {0: [5], 1: [2], 2: [3]}\n"
     ]
    }
   ],
   "source": [
    "out = runfactory(dft)"
   ]
  },
  {
   "cell_type": "markdown",
   "metadata": {},
   "source": [
    "## Run the factory"
   ]
  },
  {
   "cell_type": "code",
   "execution_count": 170,
   "metadata": {
    "ExecuteTime": {
     "end_time": "2016-12-14T12:30:11.805179",
     "start_time": "2016-12-14T12:30:11.544213"
    },
    "collapsed": false,
    "scrolled": false
   },
   "outputs": [
    {
     "name": "stdout",
     "output_type": "stream",
     "text": [
      "Part 1: Bot 141 is comparing value-61 and value-17 chips.\n",
      "Part 2: Multiplication of values of chips in output 1,2 and 3 is: 1209\n"
     ]
    }
   ],
   "source": [
    "out = runfactory(df, False)\n",
    "print('Part 2: Multiplication of values of chips in output 1,2 and 3 is: {}'.format(out[0][0]*out[1][0]*out[2][0]))\n"
   ]
  }
 ],
 "metadata": {
  "kernelspec": {
   "display_name": "Python 3",
   "language": "python",
   "name": "python3"
  },
  "language_info": {
   "codemirror_mode": {
    "name": "ipython",
    "version": 3
   },
   "file_extension": ".py",
   "mimetype": "text/x-python",
   "name": "python",
   "nbconvert_exporter": "python",
   "pygments_lexer": "ipython3",
   "version": "3.5.2"
  },
  "toc": {
   "navigate_menu": false,
   "number_sections": true,
   "sideBar": false,
   "threshold": 4,
   "toc_cell": false,
   "toc_section_display": "block",
   "toc_window_display": true
  }
 },
 "nbformat": 4,
 "nbformat_minor": 1
}
